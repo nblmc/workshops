{
 "cells": [
  {
   "cell_type": "markdown",
   "metadata": {},
   "source": [
    "# Making a Choropleth Map #  \n",
    "\n",
    "Let's take a look at the history of internet usage across the world from the [World Bank Data Portal](https://data.worldbank.org/indicator/IT.NET.USER.ZS?end=2018&start=1960&type=shaded&view=chart). We'll plot this data on a map that will allow users to interact with it in a web page. We'll also explore different ways to customize our map.\n",
    "\n",
    "  This file is available in the repository in csv form.  \n",
    "  \n",
    "[Step 1: Checking out Our Data](#Step-1:-Checking-out-Our-Data)  \n",
    "[Step 2: Importing Libraries](#Step-2:-Importing-Libraries)  \n",
    "[Step 3: Gathering and Cleaning Data](#Step-3:-Gathering-and-Cleaning-Data)  \n",
    "[Step 4: Making a Map](#Step-4:-Making-a-Map)    \n",
    "\n",
    "Try launching on [mybinder.org](https://mybinder.org/)!  \n",
    "\n",
    "### Exercise Notes:¶  ###\n",
    "**For each step, we will**:  \n",
    "- present an explanation which will include an example of the syntax. \n",
    "- allow you to fill in and complete code yourself based on this example.\n",
    "\n",
    "## Step 1: Checking out Our Data ##  \n",
    "Before we start writing anything, let's open up the file we have to see what we're working with. Ultimately, we'll want to make sure that we the necessary information to plot our data.  \n",
    "![internet-data.png](internet-data.png)  \n",
    "In this dataset, you can see that each entry has a corresponding country code. That will be enough to plot it on a map. However, not every entry is a country which could cause some errors if we tried to plot the entire set. In addition, not every year contains data for every country. Moving forward, we'll have to keep these features in mind.  \n",
    "\n",
    "## Step 2: Importing Libraries ##\n",
    "This is typically done in the first lines of a script. This way, you won't waste time running parts of your script before finding that a library was not available.  \n",
    "\n",
    "In this workshop we'll be using:  \n",
    "- [pandas](https://pandas.pydata.org/pandas-docs/stable/) for data handling and manipulation\n",
    "- [folium](https://python-visualization.github.io/folium/) for data vizualization with leaflet maps\n",
    "- [JSON](https://docs.python.org/3/library/json.html) - JavaScript Object Notation encoder/decoder for reading in geographical data  "
   ]
  },
  {
   "cell_type": "code",
   "execution_count": 3,
   "metadata": {},
   "outputs": [],
   "source": [
    "import pandas as pd\n",
    "import folium\n",
    "import json"
   ]
  },
  {
   "cell_type": "markdown",
   "metadata": {},
   "source": [
    "## Step 3: Gathering and Cleaning Data  \n",
    "Now that we've finished our imports, let's collect the data we want into a pandas dataframe. In the picture above, you can see that the actual data does not start until line 5 where the columns are named. \n",
    "\n",
    "We can use the following function to read our csv:  \n",
    "df = pd.read_csv('*file_path*', skiprows=val)  \n",
    "\n",
    "For example, if we wanted to read our data while skipping the first 10 rows:\n",
    "```\n",
    "df = pd.read_csv(\"Internet.csv\", skiprows=10)\n",
    "```\n",
    "\n",
    "For our purposes, we'll want to **skip the first 4 rows**."
   ]
  },
  {
   "cell_type": "code",
   "execution_count": null,
   "metadata": {},
   "outputs": [],
   "source": [
    "internet = \n",
    "print(internet)"
   ]
  },
  {
   "cell_type": "markdown",
   "metadata": {},
   "source": [
    "We also have a file with geographical boundaries for countries with their coreresponding codes. We can compare the data in this file with our internet dataframe in order to filter what we want to plot.  \n",
    "\n",
    "In order to **read in this file**, we can use the following syntax:  \n",
    "```\n",
    "with open('filename', 'r') as file:\n",
    "    contents = json.load(file)\n",
    "``` \n",
    "The name of the file we want is '**country-codes.json**'"
   ]
  },
  {
   "cell_type": "code",
   "execution_count": null,
   "metadata": {},
   "outputs": [],
   "source": [
    "country_codes = \n",
    "print(country_codes)"
   ]
  },
  {
   "cell_type": "markdown",
   "metadata": {},
   "source": [
    "Now that we have all of our data in a usable format, we'll need to clean it up. Let's filter our dataframe to include only the entries who country code is also in the country_codes data.   \n",
    "\n",
    "Accessing data from a certain column in our internet dataframe is easy. To do so, we need only specify the column name in square brackets after the variable name. For example, if we wanted the 'Country Name' column, we could type  \n",
    "```\n",
    "names = internet['Country Name']\n",
    "```  \n",
    "Try printing out the column with the country codes. You don't have to save it into a variable in order to do that."
   ]
  },
  {
   "cell_type": "code",
   "execution_count": null,
   "metadata": {},
   "outputs": [],
   "source": [
    "print()"
   ]
  },
  {
   "cell_type": "markdown",
   "metadata": {},
   "source": [
    "To access the **codes in our country_codes variable**, we'll have to do a little more work.  \n",
    "\n",
    "The data in this variable is structured as a python dictionary. A very simplified version might look like this:  \n",
    "\n",
    "```\n",
    "diction = {'name' : 'data', 'features' : ['Canada' : {'id' : CAN, 'area' : 9999} ] }\n",
    "```\n",
    "\n",
    "The data of course contains more than just information for Canada. We'll need each id in the list of features in order to match our internet data to the available geographies. To **access these features**, we can use  \n",
    "\n",
    "```\n",
    "features = diction['features']\n",
    "```\n",
    "\n",
    "From this list of features, **we need each id**, which would involve **iterating through with a loop**. That might look like this  \n",
    "\n",
    "```\n",
    "lOfIds = []\n",
    "for i in features:\n",
    "    lOfIds.append(i[id])\n",
    "```\n",
    "\n",
    "We could also combine these past two steps into one line using a **list comprehension** which would look like this example below.\n",
    "\n",
    "```\n",
    "lOfIds = [country['id'] for country in diction['features']]\n",
    "```\n",
    "\n",
    "Try getting all the country ids in the country_codes variable by following the examples above."
   ]
  },
  {
   "cell_type": "code",
   "execution_count": null,
   "metadata": {},
   "outputs": [],
   "source": [
    "lOfIds = []"
   ]
  },
  {
   "cell_type": "markdown",
   "metadata": {},
   "source": [
    "With a list of all the ids in country_codes, we can **filter the internet data** to include only **data for countries** and **not for regions**.  Luckily, pandas has a built-in method for checking if values in a dataframe exist in some other variable. It's called **isin()** and can be used to filter a dataframe in the following form:\n",
    "\n",
    "```\n",
    "df = pd.DataFrame({'Town' : ['Boston', 'Salem', 'Worcester', 'Ludlow', 'Lowell']\n",
    "              ,'Temp' : [65, 63, 67, 58, 55]\n",
    "              ,'Forecast': ['Rain', 'Rain', 'Cloudy', 'Sunny', 'Windy']}\n",
    "              )\n",
    "df = df[df['Forecast'].isin(['Rain', 'Cloudy'])]\n",
    "```\n",
    "\n",
    "The last line may look a little dense with all the df's, so let's parse through it. \n",
    "```\n",
    "df['Forecast'].isin(['Rain', 'Cloudy'])\n",
    "```\n",
    "This section simply returns a series of True or False values depending on whether the Forecast is in that list of Rain and Cloudy. It would look like\n",
    "``` \n",
    "0     True\n",
    "1     True\n",
    "2     True\n",
    "3    False\n",
    "4    False\n",
    "```\n",
    "\n",
    "We then use this series above to filter out the rows we don't want. We're setting df to be equal to itself where the value in the Forecast column is either Rain or Cloudy. That leaves \n",
    "\n",
    "```\n",
    "        Town  Temp Forecast\n",
    "0     Boston    65     Rain\n",
    "1      Salem    63     Rain\n",
    "2  Worcester    67   Cloudy\n",
    "```\n",
    "\n",
    "Now, filter the internet data!"
   ]
  },
  {
   "cell_type": "code",
   "execution_count": null,
   "metadata": {},
   "outputs": [],
   "source": [
    "internet = "
   ]
  },
  {
   "cell_type": "markdown",
   "metadata": {},
   "source": [
    "Finally, we have all the data ready that we'll need to make a map. Actually, we have enough to make more than one. But before we begin, let's create a list of bins that our data will fall into."
   ]
  },
  {
   "cell_type": "code",
   "execution_count": null,
   "metadata": {},
   "outputs": [],
   "source": [
    "bins = [float(num) for num in range(0,110,10)] "
   ]
  },
  {
   "cell_type": "markdown",
   "metadata": {},
   "source": [
    "Not every year has data collected for each country, let's try defining a function to make a map for the years **2005, 2010, and 2017**. We'll only need a few folium functions and methods to do so:  \n",
    "\n",
    "\n",
    "This line creates a **basemap**. \n",
    "```\n",
    "m1 = folium.Map(location = [25,0], zoom_start = 1.5)\n",
    "```\n",
    "\n",
    "The **Choropleth** function will create a separate choropleth layer.\n",
    "```\n",
    "c1 = folium.Choropleth(geo_data = countrycodes\n",
    "            ,data = internet2017\n",
    "            ,columns = ['Country Code', '2017']\n",
    "            ,key_on = 'feature.id'\n",
    "            ,fill_color = 'Spectral'\n",
    "            ,fill_opacity = 0.7\n",
    "            ,line_opacity = 0.4\n",
    "            ,legend_name = 'People Using Internet in 2017 (%)'\n",
    "            ,name = '2017'\n",
    "            ,bins = bins\n",
    "            )\n",
    "```\n",
    "\n",
    "The ```add_to()``` method adds a layer, like the Chropleth layer, to a basemap.\n",
    "```\n",
    "c1.add_to(m1)\n",
    "```\n",
    "\n",
    "To customize your maps, try either looking at the folium docs or typing a function name followed by a question mark e.g. ```folium.Map?``` in order to see more parameters. [Folium docs](https://python-visualization.github.io/folium/) will also show additional functions for adding more features to your map!\n",
    "\n",
    "Try combining these different functions to create a map for a certain year or make a function that creates several! "
   ]
  },
  {
   "cell_type": "code",
   "execution_count": 9,
   "metadata": {},
   "outputs": [],
   "source": [
    "folium.Map?\n",
    "folium.Choropleth?"
   ]
  },
  {
   "cell_type": "code",
   "execution_count": null,
   "metadata": {},
   "outputs": [],
   "source": []
  }
 ],
 "metadata": {
  "kernelspec": {
   "display_name": "Python 3",
   "language": "python",
   "name": "python3"
  },
  "language_info": {
   "codemirror_mode": {
    "name": "ipython",
    "version": 3
   },
   "file_extension": ".py",
   "mimetype": "text/x-python",
   "name": "python",
   "nbconvert_exporter": "python",
   "pygments_lexer": "ipython3",
   "version": "3.7.4"
  }
 },
 "nbformat": 4,
 "nbformat_minor": 2
}
