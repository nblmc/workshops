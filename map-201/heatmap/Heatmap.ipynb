{
 "cells": [
  {
   "cell_type": "markdown",
   "metadata": {},
   "source": [
    "# Making a Heatmap #  \n",
    "\n",
    "Let's take a look at restaurant licenses in Boston from the city's [Open Data portal](https://data.boston.gov/dataset/active-food-establishment-licenses). We'll plot this data on a map that will allow users to interact with it in a web page. We'll also explore different ways to customize \n",
    "\n",
    "  This file is available in the repository in csv form.  \n",
    "  \n",
    "[Step 1: Checking out Our Data](#Step-1:-Checking-out-Our-Data)  \n",
    "[Step 2: Importing Libraries](#Step-2:-Importing-Libraries)  \n",
    "[Step 3: Gathering and Cleaning Data](#Step-3:-Gathering-and-Cleaning-Data)  \n",
    "[Step 4: Assembling the Map](#Step-4:-Assembling-the-Map)   \n",
    "\n",
    "Try launching on [mybinder.org](https://mybinder.org/)!  \n",
    "\n",
    "### Exercise Notes:¶  ###\n",
    "**For each technique, we will**:  \n",
    "- present an explanation which will include an example of the syntax (values in ** should be replaced). \n",
    "- work through an example\n",
    "- allow you to practice a similar example on your own  \n",
    "\n",
    "## Step 1: Checking out Our Data ##  \n",
    "Before we start writing anything, let's open up the file we have to see what we're working with. Ultimately, we'll want to make sure that we have coordinates for plotting and some information for each item.  \n",
    "![heatmap-data.png](heatmap-data.png)\n",
    "\n",
    "## Step 2: Importing Libraries ##\n",
    "This is typically done in the first lines of a script. This way, you won't waste time running parts of your script before finding that a library was not available.  \n",
    "\n",
    "In this workshop we'll be using:  \n",
    "- [pandas](https://pandas.pydata.org/pandas-docs/stable/) for data handling and manipulation\n",
    "- [folium](https://python-visualization.github.io/folium/) for data vizualization with leaflet maps\n",
    "- [JSON](https://docs.python.org/3/library/json.html) - JavaScript Object Notation encoder/decoder for reading in geographical data  "
   ]
  },
  {
   "cell_type": "code",
   "execution_count": null,
   "metadata": {},
   "outputs": [],
   "source": [
    "import folium\n",
    "from folium.plugins import HeatMap #start with 'from' because we only want specific function\n",
    "import json\n",
    "import pandas as pd"
   ]
  },
  {
   "cell_type": "markdown",
   "metadata": {},
   "source": [
    "## Step 3: Gathering and Cleaning Data ##\n",
    "\n",
    "Now that we've finished our imports, let's collect the data we want into a pandas dataframe. For our purposes we'll need the following columns: **BusinessName**, **Latitude**, and **Longitude**. \n",
    "\n",
    "We can use the following function to read our csv:  \n",
    "\n",
    "    df = pd.read_csv('*file_path*', usecols=['*example header*',...,'*final*'])  \n",
    "\n",
    "For example if we wanted just the city column, we could do:"
   ]
  },
  {
   "cell_type": "code",
   "execution_count": null,
   "metadata": {},
   "outputs": [],
   "source": [
    "#Example\n",
    "cities = pd.read_csv('restaurants.csv', usecols=['CITY'])\n",
    "print(cities)"
   ]
  },
  {
   "cell_type": "code",
   "execution_count": null,
   "metadata": {},
   "outputs": [],
   "source": [
    "#Read in the columns BusinessName, Latitude, and Longitude\n",
    "restaurants = \n",
    "print(restaurants)"
   ]
  },
  {
   "cell_type": "markdown",
   "metadata": {},
   "source": [
    "Next we'll want to make sure that our values for **Latitude** and **Longitude** can be read as numbers (**type int**) rather than strings. To do that, we can use the *apply* method to apply a function to those columns.  \n",
    "\n",
    "    df['*column*'] = df['*column*'].apply(int)"
   ]
  },
  {
   "cell_type": "code",
   "execution_count": null,
   "metadata": {},
   "outputs": [],
   "source": [
    "#Example\n",
    "df = pd.DataFrame({'a' : ['4','5','7','8','9']})\n",
    "print(df['a'].apply(type)) #check types\n",
    "\n",
    "df['a'] = df['a'].apply(int) #make int\n",
    "print(df['a'].apply(type)) # check types again"
   ]
  },
  {
   "cell_type": "markdown",
   "metadata": {},
   "source": [
    "Now we'll need to **remove entries without coordinates**. We'll have no way of plotting these points without geocoding them, so let's work with what we've got.  \n",
    "\n",
    "    df = df[df.*column* != *val*]]     "
   ]
  },
  {
   "cell_type": "code",
   "execution_count": null,
   "metadata": {},
   "outputs": [],
   "source": [
    "#Example\n",
    "df = df[df.a != 7]\n",
    "df"
   ]
  },
  {
   "cell_type": "code",
   "execution_count": null,
   "metadata": {},
   "outputs": [],
   "source": [
    "restaurants = \n",
    "print(restaurants)"
   ]
  },
  {
   "cell_type": "markdown",
   "metadata": {},
   "source": [
    "All of our restaurant data is now prepared and ready to be put into a map! But there's one layer of data left. Let's load our **Boston neighborhood boundaries** into a variable. Note that it's a **json** file, so we'll need to use a special function to read it.   \n",
    "\n",
    "    with open('*filepath*', 'r') as file:  \n",
    "        var = json.load(file)"
   ]
  },
  {
   "cell_type": "code",
   "execution_count": null,
   "metadata": {},
   "outputs": [],
   "source": [
    "#Example\n",
    "with open('restaurants.csv', 'r') as file:\n",
    "    rests = file\n",
    "print(rests)"
   ]
  },
  {
   "cell_type": "code",
   "execution_count": null,
   "metadata": {},
   "outputs": [],
   "source": [
    "with open() as file:\n",
    "    neighborhoods = \n"
   ]
  },
  {
   "cell_type": "markdown",
   "metadata": {},
   "source": [
    "## Step 4: Assembling the Map ##  \n",
    "\n",
    "We'll assemble the map in several layers: the **base map** (basic street map), a **heatmap** (plot all of our coordinate points), and a **boundary layer** (our geojson neighborhoods).  \n",
    "\n",
    "A good place to start is with the base map. This is where you can start to customize things:  \n",
    "\n",
    "    map = folium.Map(location = [*25*, *25*] ,zoom_start = *14*)\n"
   ]
  },
  {
   "cell_type": "code",
   "execution_count": null,
   "metadata": {},
   "outputs": [],
   "source": [
    "folium.Map?\n",
    "mp = folium.Map(location = [42.3601, 71.0589] ,zoom_start = 14, control_scale = True, width=750, height=500)"
   ]
  },
  {
   "cell_type": "code",
   "execution_count": null,
   "metadata": {},
   "outputs": [],
   "source": [
    "mp"
   ]
  },
  {
   "cell_type": "code",
   "execution_count": null,
   "metadata": {},
   "outputs": [],
   "source": [
    "map1 = "
   ]
  },
  {
   "cell_type": "markdown",
   "metadata": {},
   "source": [
    "Next let's add our neighborhood boundaries. There's a very simply function for doing this:  \n",
    "\n",
    "        folium.GeoJson(*geojson file*).add_to(*map var*)"
   ]
  },
  {
   "cell_type": "code",
   "execution_count": null,
   "metadata": {},
   "outputs": [],
   "source": [
    "folium.GeoJson?"
   ]
  },
  {
   "cell_type": "markdown",
   "metadata": {},
   "source": [
    "Finally, let's add our coordinate points to the heatmap. Currently, the **Latitude** and **Longitude** are in separate dataframe columns. The heatmap function, however, would like them as a list of tuples. In order to satisfy the function parameters we can use the following syntax:  \n",
    "\n",
    "    coords = list(zip(*iterable1*, *iterable2*))\n",
    "\n",
    "Then, we can put this variable into the heatmap function and continue with our final customizations.  \n",
    "\n",
    "    heatmap = HeatMap(*vals*\n",
    "                  ,min_opacity=0.2\n",
    "                  ,max_val=1\n",
    "                  ,radius=10, blur=15\n",
    "                  ,max_zoom=1\n",
    "                 )"
   ]
  },
  {
   "cell_type": "code",
   "execution_count": null,
   "metadata": {},
   "outputs": [],
   "source": [
    "HeatMap?"
   ]
  },
  {
   "cell_type": "code",
   "execution_count": null,
   "metadata": {},
   "outputs": [],
   "source": [
    "map1.add_child(heatmap)\n",
    "map1"
   ]
  },
  {
   "cell_type": "code",
   "execution_count": null,
   "metadata": {},
   "outputs": [],
   "source": [
    "map1.save('index.html')"
   ]
  }
 ],
 "metadata": {
  "kernelspec": {
   "display_name": "Python 3",
   "language": "python",
   "name": "python3"
  },
  "language_info": {
   "codemirror_mode": {
    "name": "ipython",
    "version": 3
   },
   "file_extension": ".py",
   "mimetype": "text/x-python",
   "name": "python",
   "nbconvert_exporter": "python",
   "pygments_lexer": "ipython3",
   "version": "3.7.4"
  }
 },
 "nbformat": 4,
 "nbformat_minor": 2
}
