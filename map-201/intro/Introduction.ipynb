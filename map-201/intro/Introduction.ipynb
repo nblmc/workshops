{
 "cells": [
  {
   "cell_type": "markdown",
   "metadata": {},
   "source": [
    "# Data Manipulation with Python #  \n",
    "\n",
    "This notebook does not serve as a comprehensive introduction or tutorial for python but rather a demonstration of how it can be used. Some resources for learning python:  \n",
    "- [Online courses through BPL](https://www.bpl.org/learning-tools/online-courses/)\n",
    "- [Python website](https://www.python.org/)\n",
    "- [Codecademy](https://www.codecademy.com/)  \n",
    "\n",
    "In this notebook, we'll run through a quick example of working with csv data using Python. We'll use the Boston [2018 ACS dataset](https://data.census.gov/cedsci/map?g=0500000US25025.140000_1600000US2507000&hidePreview=false&layer=place&tid=ACSST5Y2018.S0101&table=DP02&tp=false&vintage=2018&cid=S0101_C01_001E) from census.gov. Given data on inhabitants' age for each census tract, let's try to find the most populous age group in each one.  \n",
    "\n",
    "Below you will find three sections:\n",
    "- [Functions and Methods](#Functions-and-Methods) includes details for the syntax of the different tools we'll be using.\n",
    "- [Cleaning Data](#Cleaning-Data) shows Python usage for reformatting data and making it easier to work with.\n",
    "- [Selecting Data](#Selecting-Data) includes both \n",
    "    1. pre-written lines for finding the most populous age group within each tract and \n",
    "    2. lines to be filled (using the same form) to find where the median age of a tract is over 50.\n",
    "\n",
    "## Functions and Methods ##\n",
    "\n",
    "[```pandas.read_csv(filepath)```](https://pandas.pydata.org/pandas-docs/stable/reference/api/pandas.read_csv.html) Read a comma-separated values (csv) file into DataFrame.   \n",
    "\n",
    "[```pandas.DataFrame(data)```](https://pandas.pydata.org/pandas-docs/stable/reference/api/pandas.DataFrame.html) Two-dimensional, size-mutable, potentially heterogeneous tabular data.\n",
    "\n",
    "Data structure also contains labeled axes (rows and columns). Arithmetic operations align on both row and column labels. Can be thought of as a dict-like container for Series objects. The primary pandas data structure.  \n",
    "\n",
    "```iloc[]``` Purely integer-location based indexing for selection by position.  \n",
    "```columns ``` The column labels of the DataFrame.  \n",
    "```max``` Return the maximum of the values for the requested axis.  \n",
    "```idxmax``` Return index of first occurrence of maximum over requested axis.\n"
   ]
  },
  {
   "cell_type": "markdown",
   "metadata": {},
   "source": [
    "## Cleaning Data ##  \n",
    "  \n",
    "Let's start by importing the pandas library. We'll be using the DataFrame object to store and manipulate our data. For more information check out the [user guide](https://pandas.pydata.org/docs/user_guide/index.html)!"
   ]
  },
  {
   "cell_type": "code",
   "execution_count": null,
   "metadata": {},
   "outputs": [],
   "source": [
    "import pandas as pd"
   ]
  },
  {
   "cell_type": "markdown",
   "metadata": {},
   "source": [
    "Now, we need to read in our data. Since it's in csv form, we can use pandas' read_csv function to create a DataFrame. Pandas also contains functions for reading in files with common formatting like json and excel files."
   ]
  },
  {
   "cell_type": "code",
   "execution_count": null,
   "metadata": {},
   "outputs": [],
   "source": [
    "df = pd.read_csv(\"data/ACSST5Y2018.S0101_data_with_overlays_2020-03-05T114122.csv\")\n",
    "df"
   ]
  },
  {
   "cell_type": "markdown",
   "metadata": {},
   "source": [
    "You may have noticed that the column names don't really tell us anything about what's stored in them. The first row, however, contains descriptions for each column. To access that we can select a row by its index using iloc."
   ]
  },
  {
   "cell_type": "code",
   "execution_count": null,
   "metadata": {},
   "outputs": [],
   "source": [
    "df.iloc[0]"
   ]
  },
  {
   "cell_type": "markdown",
   "metadata": {},
   "source": [
    "With this row selected we can now clean up these names by using a python list comprehension."
   ]
  },
  {
   "cell_type": "code",
   "execution_count": null,
   "metadata": {},
   "outputs": [],
   "source": [
    "new_columns = [name.replace(\"!!\", \" \") for name in df.iloc[0]]"
   ]
  },
  {
   "cell_type": "markdown",
   "metadata": {},
   "source": [
    "Set the column names equal to the new ones we just created. "
   ]
  },
  {
   "cell_type": "code",
   "execution_count": null,
   "metadata": {},
   "outputs": [],
   "source": [
    "df.columns = new_columns"
   ]
  },
  {
   "cell_type": "markdown",
   "metadata": {},
   "source": [
    "Set df equal to rest of dataframe."
   ]
  },
  {
   "cell_type": "code",
   "execution_count": null,
   "metadata": {},
   "outputs": [],
   "source": [
    "df = df.iloc[1:]"
   ]
  },
  {
   "cell_type": "code",
   "execution_count": null,
   "metadata": {},
   "outputs": [],
   "source": [
    "df"
   ]
  },
  {
   "cell_type": "markdown",
   "metadata": {},
   "source": [
    "## Selecting Data ##"
   ]
  },
  {
   "cell_type": "code",
   "execution_count": null,
   "metadata": {},
   "outputs": [],
   "source": [
    "cols = []\n",
    "for column in df.columns:\n",
    "    #print(column)\n",
    "    if 'estimate total total population age' in column.lower():\n",
    "        print(column)\n",
    "        cols.append(column)"
   ]
  },
  {
   "cell_type": "code",
   "execution_count": null,
   "metadata": {},
   "outputs": [],
   "source": [
    "for column in df.columns:\n",
    "    print(column)\n",
    "\n",
    "#uncomment line below and set median equal to column name for total population median age\n",
    "#median = ''"
   ]
  },
  {
   "cell_type": "code",
   "execution_count": null,
   "metadata": {},
   "outputs": [],
   "source": [
    "age = df[cols]"
   ]
  },
  {
   "cell_type": "code",
   "execution_count": null,
   "metadata": {},
   "outputs": [],
   "source": [
    "median_age = "
   ]
  },
  {
   "cell_type": "code",
   "execution_count": null,
   "metadata": {},
   "outputs": [],
   "source": [
    "age"
   ]
  },
  {
   "cell_type": "code",
   "execution_count": null,
   "metadata": {},
   "outputs": [],
   "source": [
    "median_age"
   ]
  },
  {
   "cell_type": "code",
   "execution_count": null,
   "metadata": {
    "scrolled": false
   },
   "outputs": [],
   "source": [
    "print(age.max(axis=1) )"
   ]
  },
  {
   "cell_type": "code",
   "execution_count": null,
   "metadata": {
    "scrolled": true
   },
   "outputs": [],
   "source": [
    "groups = age.astype(float).idxmax(axis=1)\n",
    "groups"
   ]
  },
  {
   "cell_type": "code",
   "execution_count": null,
   "metadata": {},
   "outputs": [],
   "source": [
    "twenties = ['20' in group or '25' in group for group in groups]\n",
    "print(twenties)\n"
   ]
  },
  {
   "cell_type": "markdown",
   "metadata": {},
   "source": []
  },
  {
   "cell_type": "code",
   "execution_count": null,
   "metadata": {},
   "outputs": [],
   "source": [
    "#Find where median age is less then 50\n",
    "less_than_fifty = "
   ]
  },
  {
   "cell_type": "code",
   "execution_count": null,
   "metadata": {},
   "outputs": [],
   "source": []
  },
  {
   "cell_type": "code",
   "execution_count": null,
   "metadata": {},
   "outputs": [],
   "source": []
  },
  {
   "cell_type": "code",
   "execution_count": null,
   "metadata": {},
   "outputs": [],
   "source": []
  }
 ],
 "metadata": {
  "kernelspec": {
   "display_name": "Python 3",
   "language": "python",
   "name": "python3"
  },
  "language_info": {
   "codemirror_mode": {
    "name": "ipython",
    "version": 3
   },
   "file_extension": ".py",
   "mimetype": "text/x-python",
   "name": "python",
   "nbconvert_exporter": "python",
   "pygments_lexer": "ipython3",
   "version": "3.7.4"
  }
 },
 "nbformat": 4,
 "nbformat_minor": 2
}
