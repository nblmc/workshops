{
 "cells": [
  {
   "cell_type": "markdown",
   "metadata": {},
   "source": [
    "# Python Basics #\n"
   ]
  },
  {
   "cell_type": "markdown",
   "metadata": {},
   "source": [
    "### Simple Types ###"
   ]
  },
  {
   "cell_type": "markdown",
   "metadata": {},
   "source": [
    "#### Comments ####\n",
    "do not run as part of the code but are helpful in communicating with other humans.\n",
    "Uncommented code blocks are instructions to the machine regarding what you want it to do and where to find the data it is perfoming actions on."
   ]
  },
  {
   "cell_type": "code",
   "execution_count": 6,
   "metadata": {},
   "outputs": [],
   "source": [
    "#Text following a '#' will not be run. This is called a comment."
   ]
  },
  {
   "cell_type": "code",
   "execution_count": 10,
   "metadata": {},
   "outputs": [
    {
     "name": "stdout",
     "output_type": "stream",
     "text": [
      "This is my message for you\n"
     ]
    }
   ],
   "source": [
    "Dear_Computer = \"This is my message for you\"  #\"Dear_Computer\" is our variable\n",
    "print(Dear_Computer)\n",
    "\n",
    "#The intructions above this comment are read and acted upon by the computer. See the output below when you run this cell"
   ]
  },
  {
   "cell_type": "markdown",
   "metadata": {},
   "source": [
    "#### Variables ####\n",
    "are the basic blocks of Python.  \n",
    "They allow you to store values to a name."
   ]
  },
  {
   "cell_type": "code",
   "execution_count": null,
   "metadata": {},
   "outputs": [],
   "source": [
    "x = 'This is a variable'"
   ]
  },
  {
   "cell_type": "code",
   "execution_count": 1,
   "metadata": {},
   "outputs": [],
   "source": [
    "#Variables can store many kinds of values\n",
    "\n",
    "y = 5\n",
    "z = True # case sensitive\n",
    "python = \"A very useful tool\""
   ]
  },
  {
   "cell_type": "markdown",
   "metadata": {},
   "source": []
  },
  {
   "cell_type": "code",
   "execution_count": null,
   "metadata": {},
   "outputs": [],
   "source": [
    "#What type of data are we storing?\n",
    "print(x)\n",
    "print(y)\n",
    "print(z)"
   ]
  },
  {
   "cell_type": "code",
   "execution_count": null,
   "metadata": {},
   "outputs": [],
   "source": [
    "#The type function tells us what type of data a variable holds\n",
    "\n",
    "print(type(x), type(y), type(z))"
   ]
  },
  {
   "cell_type": "markdown",
   "metadata": {},
   "source": [
    "Some of the most basic types in python are:\n",
    "\n",
    "#### strings ####\n",
    "Think of a string of characters. Whether they be letters, numbers or symbols, they are treated as text.  They are always enclosed in quotes\"\"\n",
    "(Example: \"This is the #1 string\" , \"352\")\n",
    "\n",
    "#### integers####\n",
    "These are whole numbers.\n",
    "(Example: 352)\n",
    "\n",
    "#### floats ####\n",
    "This is a special category for numbers that have a decimal value.\n",
    "(Example: 3.22)\n",
    "\n",
    "#### booleans ####\n",
    "(True or False.  Remember, in python the initial letter is always capitalized for these two values)"
   ]
  },
  {
   "cell_type": "markdown",
   "metadata": {},
   "source": [
    "### Operating on Things ###"
   ]
  },
  {
   "cell_type": "markdown",
   "metadata": {},
   "source": [
    "Variables aren't worth too much if they only store information. Let's start acting on them!\n",
    "\n",
    "[learn more about operators in python here](https://www.w3schools.com/python/python_operators.asp)"
   ]
  },
  {
   "cell_type": "code",
   "execution_count": null,
   "metadata": {},
   "outputs": [],
   "source": [
    "# Basic Operators\n",
    "a = 3\n",
    "b = 4\n",
    "\n",
    "print(a + b)\n",
    "print(a - b)\n",
    "print(a * b)\n",
    "print(a ** b)\n",
    "print(a / b)\n",
    "\n",
    "#Operators can be used for math!"
   ]
  },
  {
   "cell_type": "code",
   "execution_count": null,
   "metadata": {},
   "outputs": [],
   "source": [
    "#Operators can also be used on other types\n",
    "\n",
    "first = 'Hello'\n",
    "second = 'there!'\n",
    "\n",
    "print(first + second)\n",
    "print(first + ' ' + second)\n",
    "print(first * 3)\n",
    "\n",
    "third = first + second\n",
    "print(third)"
   ]
  },
  {
   "cell_type": "code",
   "execution_count": null,
   "metadata": {},
   "outputs": [],
   "source": [
    "# Boolean Operators let us compare things\n",
    "\n",
    "print(a > b) #3 > 4?\n",
    "print(a == b) #3 == 4?\n",
    "print(first + second == third)\n",
    "\n",
    "\n",
    "print(True or False)\n",
    "print(True and False)"
   ]
  },
  {
   "cell_type": "markdown",
   "metadata": {},
   "source": [
    "### Functions ###"
   ]
  },
  {
   "cell_type": "markdown",
   "metadata": {},
   "source": [
    "Python has many built-in functions. We can also write our own.\n",
    "\n",
    "Functions are blocks of code that perform a task. They can be simple with one operation or contain a group of operations.\n",
    "\n",
    "1. Define a function like this:\n",
    ">def function_name(parameter_1-optional, parameter_2-optional):\n",
    "</br>\n",
    "         operation(\"operator\")\n",
    "  \n",
    "2. Call a function\n",
    "> function_name(parameter_1,parameter_2)\n",
    "\n",
    "Let's look at some exampes!"
   ]
  },
  {
   "cell_type": "code",
   "execution_count": null,
   "metadata": {},
   "outputs": [],
   "source": [
    "print(type(a))\n",
    "print(len(first))"
   ]
  },
  {
   "cell_type": "code",
   "execution_count": null,
   "metadata": {},
   "outputs": [],
   "source": [
    "def add(x, y):    #We define a function called add with the parameters x and y\n",
    "    print(x + y)  #It prints out their sum\n",
    "\n",
    "add(2,3) #Add the arguments 2 and 3\n",
    "add('hello', 'there')\n",
    "add(True, False)"
   ]
  },
  {
   "cell_type": "code",
   "execution_count": null,
   "metadata": {},
   "outputs": [],
   "source": [
    "#in jupyter, if you ever want information about a function, \n",
    "#you can type it's name followed by ?\n",
    "print?"
   ]
  },
  {
   "cell_type": "markdown",
   "metadata": {},
   "source": [
    "### Methods ###\n",
    "These are a type of function that acts directly on an object (data).  The format is:\n",
    "\n",
    "object.method()"
   ]
  },
  {
   "cell_type": "code",
   "execution_count": null,
   "metadata": {},
   "outputs": [],
   "source": [
    "#Objects\n",
    "\n",
    "#strings are objects. An object is a bundle of some data,\n",
    "#and functions that act on that data.\n",
    "#These functions within objects are called\n",
    "\n",
    "#methods\n",
    "x = 'this is all lowercase'\n",
    "print(x)\n",
    "print(x.upper())"
   ]
  },
  {
   "cell_type": "markdown",
   "metadata": {},
   "source": [
    "Some common methods in python are:  \n",
    "\n",
    "object.max( ) - returns maximum value  \n",
    "object.lower() - converts characters to lowercase  \n",
    "object.round() - rounds a number  \n",
    "object.sum() - returns the sum of all values in object\n",
    "\n",
    "[Other useful python methods are listed here](https://www.w3schools.com/python/python_reference.asp)"
   ]
  },
  {
   "cell_type": "markdown",
   "metadata": {},
   "source": [
    "### Collections ###"
   ]
  },
  {
   "cell_type": "markdown",
   "metadata": {},
   "source": [
    "#### Lists #### \n",
    "Lists are ordered, mutable, indexable, versatile and great for storing elements.  \n",
    "They are enclosed in square brackets []  \n",
    "Each element is given an index number based on its order in the list, starting with 0 as the first element."
   ]
  },
  {
   "cell_type": "code",
   "execution_count": null,
   "metadata": {},
   "outputs": [],
   "source": [
    "print('Lists:')\n",
    "#Lists: remember that the first element in the list is at position 0\n",
    "L = [1,2,3,4]\n",
    "print(L)\n",
    "print(L[0])"
   ]
  },
  {
   "cell_type": "code",
   "execution_count": null,
   "metadata": {},
   "outputs": [],
   "source": [
    "#Slicing\n",
    "print(L[-1]) #start from the end\n",
    "print(L[:2]) #get a slice starting from beginning\n",
    "print(L[2:]) #get a slice going to end\n",
    "print(L[:-1])"
   ]
  },
  {
   "cell_type": "markdown",
   "metadata": {},
   "source": [
    "The append method, [object.append()](https://www.geeksforgeeks.org/append-extend-python/), allows you to add an element to your list.  \n",
    "The pop method, [object.pop()](https://www.geeksforgeeks.org/python-list-pop/) removes the last item form the list unless another position (index) is specified.\n"
   ]
  },
  {
   "cell_type": "code",
   "execution_count": null,
   "metadata": {},
   "outputs": [],
   "source": [
    "#List methods\n",
    "L.append('name')\n",
    "print(L)\n",
    "L.pop()\n",
    "print(L)"
   ]
  },
  {
   "cell_type": "code",
   "execution_count": null,
   "metadata": {},
   "outputs": [],
   "source": [
    "L[0] = 'one'\n",
    "print(L)"
   ]
  },
  {
   "cell_type": "markdown",
   "metadata": {},
   "source": [
    "#### Dictionaries #### \n",
    "Key-Value pairs, unordered"
   ]
  },
  {
   "cell_type": "code",
   "execution_count": null,
   "metadata": {},
   "outputs": [],
   "source": [
    "#Dictionaries: Key-Value pairs, unordered\n",
    "name = 'brian'\n",
    "D = {'key1' : 'value1', 'Name' : name}\n",
    "print(D)\n",
    "print(D['Name'])\n",
    "\n"
   ]
  },
  {
   "cell_type": "code",
   "execution_count": null,
   "metadata": {},
   "outputs": [],
   "source": [
    "#Add a new pair\n",
    "D['new'] = 'Entry'\n",
    "print(D)"
   ]
  },
  {
   "cell_type": "code",
   "execution_count": null,
   "metadata": {},
   "outputs": [],
   "source": [
    "#Values in lists and dicts can be more than just strings and ints\n",
    "weatherdata = {'Town' : ['Boston', 'Salem', 'Worcester', 'Ludlow']\n",
    "              ,'Temp' : [65, 63, 67, 58]\n",
    "              ,'Forecast': ['Rain', 'Rain', 'Cloudy', 'Sunny']}\n",
    "\n",
    "print(weatherdata)\n"
   ]
  },
  {
   "cell_type": "code",
   "execution_count": null,
   "metadata": {},
   "outputs": [],
   "source": [
    "#From pandas ---- Using other peoples' work is good!!\n",
    "#pandas is a python library for data structures for easy manipulation and analysis\n",
    "\n",
    "#DataFrames\n",
    "import pandas as pd\n",
    "df = pd.DataFrame(weatherdata)\n",
    "print(df)\n",
    "#pd.DataFrame?"
   ]
  },
  {
   "cell_type": "markdown",
   "metadata": {},
   "source": [
    "### Loops ###\n",
    "Loops allow us to iterate through a lot of data performing functions on each item in the dataset"
   ]
  },
  {
   "cell_type": "code",
   "execution_count": null,
   "metadata": {},
   "outputs": [],
   "source": [
    "#for loop\n",
    "\n",
    "for i in range(10):\n",
    "    print(i)\n",
    "    \n",
    "for item in L:\n",
    "    print(L)\n",
    "\n",
    "for i in range(len(L)):\n",
    "    L[i] = i * i\n",
    "    \n",
    "print(L)"
   ]
  },
  {
   "cell_type": "code",
   "execution_count": null,
   "metadata": {},
   "outputs": [],
   "source": [
    "#While loop\n",
    "\n",
    "#careful not to make a never ending loop\n",
    "i = 0\n",
    "while i < 10:\n",
    "    print(i)\n",
    "    i+=1"
   ]
  },
  {
   "cell_type": "markdown",
   "metadata": {},
   "source": [
    "### Conditions ###\n",
    "Conditions allow us to filter which functions are performed on which elements in the dataset"
   ]
  },
  {
   "cell_type": "code",
   "execution_count": null,
   "metadata": {},
   "outputs": [],
   "source": [
    "a = 3\n",
    "b = 2\n",
    "if a < b:\n",
    "    print('A is less than B')\n",
    "else:\n",
    "    print('A is greater than B')"
   ]
  },
  {
   "cell_type": "code",
   "execution_count": null,
   "metadata": {},
   "outputs": [],
   "source": [
    "cond = False\n",
    "i = 0\n",
    "while cond == False:\n",
    "    if i == 5:\n",
    "        cond = True\n",
    "    print('cond still false\\n i =',i)\n",
    "    i += 1\n",
    "    "
   ]
  },
  {
   "cell_type": "code",
   "execution_count": null,
   "metadata": {},
   "outputs": [],
   "source": []
  }
 ],
 "metadata": {
  "kernelspec": {
   "display_name": "Python 3",
   "language": "python",
   "name": "python3"
  },
  "language_info": {
   "codemirror_mode": {
    "name": "ipython",
    "version": 3
   },
   "file_extension": ".py",
   "mimetype": "text/x-python",
   "name": "python",
   "nbconvert_exporter": "python",
   "pygments_lexer": "ipython3",
   "version": "3.7.4"
  }
 },
 "nbformat": 4,
 "nbformat_minor": 2
}
